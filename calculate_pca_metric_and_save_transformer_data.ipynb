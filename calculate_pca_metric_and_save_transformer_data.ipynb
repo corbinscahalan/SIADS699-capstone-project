{
 "cells": [
  {
   "cell_type": "code",
   "execution_count": 3,
   "id": "5a45574e",
   "metadata": {},
   "outputs": [],
   "source": [
    "import numpy as np\n",
    "import pandas as pd\n",
    "\n",
    "from sklearn.decomposition import PCA\n",
    "\n",
    "from warnings import filterwarnings\n",
    "filterwarnings('ignore')"
   ]
  },
  {
   "cell_type": "code",
   "execution_count": 4,
   "id": "b19ab458",
   "metadata": {},
   "outputs": [],
   "source": [
    "# data was already split this is only for calculating the new pca metric\n",
    "ens_data = pd.read_json('/home/alevink/capstone/ens_data.json.gz')\n",
    "all_data = pd.read_json('/home/alevink/capstone/dataset_11_29_22.json.gz')"
   ]
  },
  {
   "cell_type": "code",
   "execution_count": 5,
   "id": "84e4019d",
   "metadata": {},
   "outputs": [],
   "source": [
    "try:\n",
    "    ens_data.drop('pca_metric', axis=1, inplace=True)\n",
    "except KeyError:\n",
    "    pass"
   ]
  },
  {
   "cell_type": "code",
   "execution_count": 6,
   "id": "c9374e00",
   "metadata": {},
   "outputs": [
    {
     "data": {
      "text/plain": [
       "Index(['vid_id', 'chan_query', 'chan_id', 'chan_name', 'chan_viewcount',\n",
       "       'chan_subcount', 'chan_start_dt', 'chan_thumb', 'chan_vidcount',\n",
       "       'vid_name', 'vid_publish_dt', 'vid_thumb', 'vid_duration',\n",
       "       'vid_caption', 'vid_viewcount', 'vid_likecount', 'vid_commentcount',\n",
       "       'description', 'duration', 'age_limit', 'categories', 'tags', 'is_live',\n",
       "       'width', 'height', 'fps', 'vcodec', 'vbr', 'acodec', 'abr',\n",
       "       'thumb_name', 'subtitles', 'thumb_width', 'thumb_height'],\n",
       "      dtype='object')"
      ]
     },
     "execution_count": 6,
     "metadata": {},
     "output_type": "execute_result"
    }
   ],
   "source": [
    "ens_data.columns"
   ]
  },
  {
   "cell_type": "code",
   "execution_count": 7,
   "id": "5e1fc226",
   "metadata": {},
   "outputs": [
    {
     "data": {
      "text/plain": [
       "Index(['vid_id', 'chan_query', 'chan_id', 'chan_name', 'chan_viewcount',\n",
       "       'chan_subcount', 'chan_start_dt', 'chan_thumb', 'chan_vidcount',\n",
       "       'vid_name', 'vid_publish_dt', 'vid_thumb', 'vid_duration',\n",
       "       'vid_caption', 'vid_viewcount', 'vid_likecount', 'vid_commentcount',\n",
       "       'description', 'duration', 'age_limit', 'categories', 'tags', 'is_live',\n",
       "       'width', 'height', 'fps', 'vcodec', 'vbr', 'acodec', 'abr',\n",
       "       'thumb_name', 'subtitles', 'thumb_width', 'thumb_height'],\n",
       "      dtype='object')"
      ]
     },
     "execution_count": 7,
     "metadata": {},
     "output_type": "execute_result"
    }
   ],
   "source": [
    "all_data.columns"
   ]
  },
  {
   "cell_type": "code",
   "execution_count": 8,
   "id": "48098665",
   "metadata": {},
   "outputs": [
    {
     "data": {
      "text/plain": [
       "((1120959, 34), (71233, 34))"
      ]
     },
     "execution_count": 8,
     "metadata": {},
     "output_type": "execute_result"
    }
   ],
   "source": [
    "all_data.shape, ens_data.shape"
   ]
  },
  {
   "cell_type": "code",
   "execution_count": 9,
   "id": "6d0cd4b4",
   "metadata": {},
   "outputs": [],
   "source": [
    "all_data = all_data.dropna(subset=['vid_viewcount', 'vid_likecount', 'vid_commentcount'])"
   ]
  },
  {
   "cell_type": "code",
   "execution_count": 10,
   "id": "57d6ee00",
   "metadata": {},
   "outputs": [
    {
     "data": {
      "text/plain": [
       "(1120950, 34)"
      ]
     },
     "execution_count": 10,
     "metadata": {},
     "output_type": "execute_result"
    }
   ],
   "source": [
    "all_data.shape"
   ]
  },
  {
   "cell_type": "code",
   "execution_count": 11,
   "id": "19bbaa81",
   "metadata": {},
   "outputs": [],
   "source": [
    "def make_new_metric(df):\n",
    "    df_ = df.copy()\n",
    "    df_['vid_viewcount'] = df_['vid_viewcount'].astype('int64')\n",
    "    df_['vid_likecount'] = df_['vid_likecount'].astype('int64')\n",
    "    df_['vid_commentcount'] = df_['vid_commentcount'].astype('int64')\n",
    "    \n",
    "    df_ = np.log(df_[['vid_viewcount', 'vid_likecount', 'vid_commentcount']] + 1)\n",
    "    pca = PCA(n_components=1)\n",
    "    score = pca.fit_transform(df_)\n",
    "    return score"
   ]
  },
  {
   "cell_type": "code",
   "execution_count": 12,
   "id": "c04a406c",
   "metadata": {},
   "outputs": [
    {
     "data": {
      "text/plain": [
       "<AxesSubplot:>"
      ]
     },
     "execution_count": 12,
     "metadata": {},
     "output_type": "execute_result"
    },
    {
     "data": {
      "image/png": "[encoded data removed]",
      "text/plain": [
       "<Figure size 432x288 with 1 Axes>"
      ]
     },
     "metadata": {
      "needs_background": "light"
     },
     "output_type": "display_data"
    }
   ],
   "source": [
    "# final model will predict this metric\n",
    "all_data['pca_metric'] = make_new_metric(all_data)\n",
    "all_data['pca_metric'].hist(bins=100)"
   ]
  },
  {
   "cell_type": "code",
   "execution_count": 13,
   "id": "b75401b1",
   "metadata": {},
   "outputs": [
    {
     "data": {
      "text/plain": [
       "<AxesSubplot:>"
      ]
     },
     "execution_count": 13,
     "metadata": {},
     "output_type": "execute_result"
    },
    {
     "data": {
      "image/png": "[encoded data removed]",
      "text/plain": [
       "<Figure size 432x288 with 1 Axes>"
      ]
     },
     "metadata": {
      "needs_background": "light"
     },
     "output_type": "display_data"
    }
   ],
   "source": [
    "# cnn will predict the log video view counts\n",
    "np.log(all_data['vid_viewcount']+1).hist(bins=100)"
   ]
  },
  {
   "cell_type": "code",
   "execution_count": 14,
   "id": "242dea94",
   "metadata": {},
   "outputs": [
    {
     "data": {
      "text/plain": [
       "0"
      ]
     },
     "metadata": {},
     "output_type": "display_data"
    }
   ],
   "source": [
    "display(all_data['pca_metric'].isnull().sum())\n",
    "metric = all_data[['vid_id', 'pca_metric']]"
   ]
  },
  {
   "cell_type": "code",
   "execution_count": 16,
   "id": "b314ee9f",
   "metadata": {},
   "outputs": [],
   "source": [
    "ens_data = ens_data.merge(metric, on='vid_id')"
   ]
  },
  {
   "cell_type": "code",
   "execution_count": 17,
   "id": "cf2291d5",
   "metadata": {},
   "outputs": [],
   "source": [
    "ens_data.to_json('/home/alevink/capstone/ens_data.json.gz')"
   ]
  },
  {
   "cell_type": "code",
   "execution_count": 15,
   "id": "70722b7e",
   "metadata": {},
   "outputs": [
    {
     "data": {
      "text/plain": [
       "(546829, 35)"
      ]
     },
     "execution_count": 15,
     "metadata": {},
     "output_type": "execute_result"
    }
   ],
   "source": [
    "# to train feature engenering transformer using the notebook yt_features.ipynb\n",
    "subs = all_data.dropna(subset=['subtitles',])\n",
    "subs.shape"
   ]
  },
  {
   "cell_type": "code",
   "execution_count": 16,
   "id": "91988e8f",
   "metadata": {},
   "outputs": [
    {
     "data": {
      "text/plain": [
       "(368847, 35)"
      ]
     },
     "execution_count": 16,
     "metadata": {},
     "output_type": "execute_result"
    }
   ],
   "source": [
    "subs = subs[subs['subtitles'] != '---missing---']\n",
    "subs.shape"
   ]
  },
  {
   "cell_type": "code",
   "execution_count": 17,
   "id": "dc3b2f43",
   "metadata": {},
   "outputs": [
    {
     "data": {
      "text/plain": [
       "(297614, 35)"
      ]
     },
     "execution_count": 17,
     "metadata": {},
     "output_type": "execute_result"
    }
   ],
   "source": [
    "# to avoid data leakage the transformer will not be trained on any data for the final model\n",
    "subs = subs[~subs['vid_id'].isin(ens_data['vid_id'])]\n",
    "subs.shape"
   ]
  },
  {
   "cell_type": "code",
   "execution_count": 18,
   "id": "e2698afd",
   "metadata": {},
   "outputs": [],
   "source": [
    "subs.to_json('/home/alevink/capstone/for_subs_transformer.json.gz')"
   ]
  }
 ],
 "metadata": {
  "kernelspec": {
   "display_name": "Python 3 (ipykernel)",
   "language": "python",
   "name": "python3"
  },
  "language_info": {
   "codemirror_mode": {
    "name": "ipython",
    "version": 3
   },
   "file_extension": ".py",
   "mimetype": "text/x-python",
   "name": "python",
   "nbconvert_exporter": "python",
   "pygments_lexer": "ipython3",
   "version": "3.9.7"
  }
 },
 "nbformat": 4,
 "nbformat_minor": 5
}
