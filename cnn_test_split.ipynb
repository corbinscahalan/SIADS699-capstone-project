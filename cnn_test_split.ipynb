{
 "cells": [
  {
   "cell_type": "code",
   "execution_count": 5,
   "metadata": {},
   "outputs": [],
   "source": [
    "import pandas as pd\n"
   ]
  },
  {
   "cell_type": "code",
   "execution_count": 6,
   "metadata": {},
   "outputs": [],
   "source": [
    "data = pd.read_json('cnn_data.json.gz')\n",
    "data = data.sample(frac=1)\n",
    "test = data.iloc[:int(data.shape[0]*0.1), :]\n",
    "train = data.iloc[int(data.shape[0]*0.1):, :]"
   ]
  },
  {
   "cell_type": "code",
   "execution_count": 7,
   "metadata": {},
   "outputs": [],
   "source": [
    "test.to_json('cnn_data_test.json.gz')\n",
    "train.to_json('cnn_data_train.json.gz')"
   ]
  }
 ],
 "metadata": {
  "kernelspec": {
   "display_name": "Python 3.10.6 ('capstone_env')",
   "language": "python",
   "name": "python3"
  },
  "language_info": {
   "codemirror_mode": {
    "name": "ipython",
    "version": 3
   },
   "file_extension": ".py",
   "mimetype": "text/x-python",
   "name": "python",
   "nbconvert_exporter": "python",
   "pygments_lexer": "ipython3",
   "version": "3.10.6"
  },
  "orig_nbformat": 4,
  "vscode": {
   "interpreter": {
    "hash": "2b9192579c383e93a0fe4ed71cd54054db34618ad79690d6950dc3424d2ec03d"
   }
  }
 },
 "nbformat": 4,
 "nbformat_minor": 2
}
