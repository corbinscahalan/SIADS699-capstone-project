{
 "cells": [
  {
   "cell_type": "code",
   "execution_count": 1,
   "metadata": {},
   "outputs": [],
   "source": [
    "import os\n",
    "\n",
    "import numpy as np\n",
    "import pandas as pd\n",
    "import re\n",
    "\n",
    "import tensorflow as tf\n",
    "\n",
    "import matplotlib.pyplot as plt\n",
    "import seaborn as sns\n",
    "\n",
    "from sklearn.metrics import mean_absolute_error, mean_squared_error, r2_score\n",
    "\n",
    "from tqdm import notebook\n"
   ]
  },
  {
   "cell_type": "code",
   "execution_count": 2,
   "metadata": {},
   "outputs": [],
   "source": [
    "log_file = 'fit_job-45669518.log'\n",
    "with open(log_file, 'r') as log:\n",
    "    lines = [line.strip('\\n') for line in log.readlines() if line.startswith('Epoch') or line.startswith('1605')]"
   ]
  },
  {
   "cell_type": "code",
   "execution_count": 3,
   "metadata": {},
   "outputs": [],
   "source": [
    "log_df = pd.DataFrame(columns=['Epoch', 'mean_squared_error_loss', 'root_mean_squared_error', 'mean_absolute_error',\n",
    "                              'val_mean_squared_error_loss', 'val_root_mean_squared_error', 'val_mean_absolute_error'])\n",
    "counter = 1\n",
    "for line_idx in range(1, len(lines), 2):\n",
    "    nums = re.findall(r'\\d+\\.\\d+', lines[line_idx])\n",
    "    log_df.loc[counter - 1, :] = [counter, ] + nums\n",
    "    counter += 1\n",
    "\n",
    "for col in log_df.columns:\n",
    "    log_df[col] = log_df[col].astype('float64')"
   ]
  },
  {
   "cell_type": "code",
   "execution_count": 4,
   "metadata": {},
   "outputs": [
    {
     "data": {
      "text/html": [
       "<div>\n",
       "<style scoped>\n",
       "    .dataframe tbody tr th:only-of-type {\n",
       "        vertical-align: middle;\n",
       "    }\n",
       "\n",
       "    .dataframe tbody tr th {\n",
       "        vertical-align: top;\n",
       "    }\n",
       "\n",
       "    .dataframe thead th {\n",
       "        text-align: right;\n",
       "    }\n",
       "</style>\n",
       "<table border=\"1\" class=\"dataframe\">\n",
       "  <thead>\n",
       "    <tr style=\"text-align: right;\">\n",
       "      <th></th>\n",
       "      <th>Epoch</th>\n",
       "      <th>mean_squared_error_loss</th>\n",
       "      <th>root_mean_squared_error</th>\n",
       "      <th>mean_absolute_error</th>\n",
       "      <th>val_mean_squared_error_loss</th>\n",
       "      <th>val_root_mean_squared_error</th>\n",
       "      <th>val_mean_absolute_error</th>\n",
       "    </tr>\n",
       "  </thead>\n",
       "  <tbody>\n",
       "    <tr>\n",
       "      <th>0</th>\n",
       "      <td>1.0</td>\n",
       "      <td>286.4797</td>\n",
       "      <td>16.9257</td>\n",
       "      <td>3.1548</td>\n",
       "      <td>9.3915</td>\n",
       "      <td>3.0646</td>\n",
       "      <td>2.5489</td>\n",
       "    </tr>\n",
       "    <tr>\n",
       "      <th>1</th>\n",
       "      <td>2.0</td>\n",
       "      <td>9.3604</td>\n",
       "      <td>3.0595</td>\n",
       "      <td>2.5382</td>\n",
       "      <td>9.1508</td>\n",
       "      <td>3.0250</td>\n",
       "      <td>2.5056</td>\n",
       "    </tr>\n",
       "    <tr>\n",
       "      <th>2</th>\n",
       "      <td>3.0</td>\n",
       "      <td>8.9558</td>\n",
       "      <td>2.9926</td>\n",
       "      <td>2.4697</td>\n",
       "      <td>8.6168</td>\n",
       "      <td>2.9354</td>\n",
       "      <td>2.4107</td>\n",
       "    </tr>\n",
       "    <tr>\n",
       "      <th>3</th>\n",
       "      <td>4.0</td>\n",
       "      <td>8.5981</td>\n",
       "      <td>2.9322</td>\n",
       "      <td>2.4078</td>\n",
       "      <td>8.4189</td>\n",
       "      <td>2.9015</td>\n",
       "      <td>2.3714</td>\n",
       "    </tr>\n",
       "    <tr>\n",
       "      <th>4</th>\n",
       "      <td>5.0</td>\n",
       "      <td>8.3824</td>\n",
       "      <td>2.8952</td>\n",
       "      <td>2.3678</td>\n",
       "      <td>8.3979</td>\n",
       "      <td>2.8979</td>\n",
       "      <td>2.3633</td>\n",
       "    </tr>\n",
       "  </tbody>\n",
       "</table>\n",
       "</div>"
      ],
      "text/plain": [
       "   Epoch  mean_squared_error_loss  root_mean_squared_error  \\\n",
       "0    1.0                 286.4797                  16.9257   \n",
       "1    2.0                   9.3604                   3.0595   \n",
       "2    3.0                   8.9558                   2.9926   \n",
       "3    4.0                   8.5981                   2.9322   \n",
       "4    5.0                   8.3824                   2.8952   \n",
       "\n",
       "   mean_absolute_error  val_mean_squared_error_loss  \\\n",
       "0               3.1548                       9.3915   \n",
       "1               2.5382                       9.1508   \n",
       "2               2.4697                       8.6168   \n",
       "3               2.4078                       8.4189   \n",
       "4               2.3678                       8.3979   \n",
       "\n",
       "   val_root_mean_squared_error  val_mean_absolute_error  \n",
       "0                       3.0646                   2.5489  \n",
       "1                       3.0250                   2.5056  \n",
       "2                       2.9354                   2.4107  \n",
       "3                       2.9015                   2.3714  \n",
       "4                       2.8979                   2.3633  "
      ]
     },
     "execution_count": 4,
     "metadata": {},
     "output_type": "execute_result"
    }
   ],
   "source": [
    "log_df.head()"
   ]
  },
  {
   "cell_type": "code",
   "execution_count": 5,
   "metadata": {},
   "outputs": [
    {
     "data": {
      "text/plain": [
       "Text(0, 0.5, 'Mean Squared Error Loss')"
      ]
     },
     "execution_count": 5,
     "metadata": {},
     "output_type": "execute_result"
    },
    {
     "data": {
      "image/png": "[encoded data removed]",
      "text/plain": [
       "<Figure size 432x288 with 1 Axes>"
      ]
     },
     "metadata": {
      "needs_background": "light"
     },
     "output_type": "display_data"
    }
   ],
   "source": [
    "ax = sns.lineplot(data=log_df.loc[:, ['mean_squared_error_loss', 'val_mean_squared_error_loss']])\n",
    "ax.set_ylim(0, 11)\n",
    "ax.set_xlim(1, 75)\n",
    "ax.set_title('Loss per Epoch')\n",
    "ax.set_xlabel('Epochs')\n",
    "ax.set_ylabel('Mean Squared Error Loss')"
   ]
  },
  {
   "cell_type": "code",
   "execution_count": 6,
   "metadata": {},
   "outputs": [
    {
     "data": {
      "text/plain": [
       "Text(0.5, 0, 'Epochs')"
      ]
     },
     "execution_count": 6,
     "metadata": {},
     "output_type": "execute_result"
    },
    {
     "data": {
      "image/png": "[encoded data removed]",
      "text/plain": [
       "<Figure size 1080x360 with 2 Axes>"
      ]
     },
     "metadata": {
      "needs_background": "light"
     },
     "output_type": "display_data"
    }
   ],
   "source": [
    "fig, ax = plt.subplots(1, 2, figsize=(15, 5))\n",
    "sns.lineplot(data=log_df.loc[:, ['root_mean_squared_error', 'val_root_mean_squared_error']], ax=ax[0])\n",
    "ax[0].set_xlim(1, 75)\n",
    "ax[0].set_ylim(0, 4)\n",
    "ax[0].set_xlabel('Epochs')\n",
    "sns.lineplot(data=log_df.loc[:, ['mean_absolute_error', 'val_mean_absolute_error']], ax=ax[1])\n",
    "ax[1].set_xlim(1, 75)\n",
    "ax[1].set_ylim(0, 4)\n",
    "ax[1].set_xlabel('Epochs')"
   ]
  },
  {
   "cell_type": "code",
   "execution_count": 7,
   "metadata": {},
   "outputs": [],
   "source": [
    "image_folder_path = 'nn_images/cnn_images'\n",
    "\n",
    "test_dataframe = pd.read_json('cnn_data_test.json.gz')"
   ]
  },
  {
   "cell_type": "code",
   "execution_count": 8,
   "metadata": {},
   "outputs": [],
   "source": [
    "test_dataframe = test_dataframe[['vid_id', 'thumb_name', 'vid_viewcount']]\n",
    "test_dataframe['vid_viewcount'] = np.log(test_dataframe['vid_viewcount'] + 1)\n",
    "test_dataframe.rename({'vid_viewcount': 'log_vid_viewcount'}, axis=1, inplace=True)"
   ]
  },
  {
   "cell_type": "code",
   "execution_count": 9,
   "metadata": {},
   "outputs": [
    {
     "data": {
      "text/html": [
       "<div>\n",
       "<style scoped>\n",
       "    .dataframe tbody tr th:only-of-type {\n",
       "        vertical-align: middle;\n",
       "    }\n",
       "\n",
       "    .dataframe tbody tr th {\n",
       "        vertical-align: top;\n",
       "    }\n",
       "\n",
       "    .dataframe thead th {\n",
       "        text-align: right;\n",
       "    }\n",
       "</style>\n",
       "<table border=\"1\" class=\"dataframe\">\n",
       "  <thead>\n",
       "    <tr style=\"text-align: right;\">\n",
       "      <th></th>\n",
       "      <th>vid_id</th>\n",
       "      <th>thumb_name</th>\n",
       "      <th>log_vid_viewcount</th>\n",
       "    </tr>\n",
       "  </thead>\n",
       "  <tbody>\n",
       "    <tr>\n",
       "      <th>0</th>\n",
       "      <td>s7hUDrkbg_E</td>\n",
       "      <td>s7hUDrkbg_E.jpg</td>\n",
       "      <td>8.458504</td>\n",
       "    </tr>\n",
       "    <tr>\n",
       "      <th>1</th>\n",
       "      <td>jsoze58Ct7Y</td>\n",
       "      <td>jsoze58Ct7Y.jpg</td>\n",
       "      <td>10.052166</td>\n",
       "    </tr>\n",
       "    <tr>\n",
       "      <th>2</th>\n",
       "      <td>IeGS-GzUtOo</td>\n",
       "      <td>IeGS-GzUtOo.jpg</td>\n",
       "      <td>3.044522</td>\n",
       "    </tr>\n",
       "    <tr>\n",
       "      <th>3</th>\n",
       "      <td>KqgFCfoH0oI</td>\n",
       "      <td>KqgFCfoH0oI.jpg</td>\n",
       "      <td>4.369448</td>\n",
       "    </tr>\n",
       "    <tr>\n",
       "      <th>4</th>\n",
       "      <td>Zv5XJnwi3k0</td>\n",
       "      <td>Zv5XJnwi3k0.jpg</td>\n",
       "      <td>12.254444</td>\n",
       "    </tr>\n",
       "  </tbody>\n",
       "</table>\n",
       "</div>"
      ],
      "text/plain": [
       "        vid_id       thumb_name  log_vid_viewcount\n",
       "0  s7hUDrkbg_E  s7hUDrkbg_E.jpg           8.458504\n",
       "1  jsoze58Ct7Y  jsoze58Ct7Y.jpg          10.052166\n",
       "2  IeGS-GzUtOo  IeGS-GzUtOo.jpg           3.044522\n",
       "3  KqgFCfoH0oI  KqgFCfoH0oI.jpg           4.369448\n",
       "4  Zv5XJnwi3k0  Zv5XJnwi3k0.jpg          12.254444"
      ]
     },
     "execution_count": 9,
     "metadata": {},
     "output_type": "execute_result"
    }
   ],
   "source": [
    "test_dataframe.head()"
   ]
  },
  {
   "cell_type": "code",
   "execution_count": 10,
   "metadata": {},
   "outputs": [
    {
     "name": "stderr",
     "output_type": "stream",
     "text": [
      "2022-12-10 00:14:18.042418: I tensorflow/core/platform/cpu_feature_guard.cc:151] This TensorFlow binary is optimized with oneAPI Deep Neural Network Library (oneDNN) to use the following CPU instructions in performance-critical operations:  AVX2 AVX512F FMA\n",
      "To enable them in other operations, rebuild TensorFlow with the appropriate compiler flags.\n",
      "2022-12-10 00:14:18.557361: I tensorflow/core/common_runtime/gpu/gpu_device.cc:1525] Created device /job:localhost/replica:0/task:0/device:GPU:0 with 14635 MB memory:  -> device: 0, name: Tesla V100-PCIE-16GB, pci bus id: 0000:d8:00.0, compute capability: 7.0\n"
     ]
    },
    {
     "name": "stdout",
     "output_type": "stream",
     "text": [
      "Model: \"vgg_cnn_model\"\n",
      "_________________________________________________________________\n",
      " Layer (type)                Output Shape              Param #   \n",
      "=================================================================\n",
      " conv2d (Conv2D)             multiple                  1792      \n",
      "                                                                 \n",
      " conv2d_1 (Conv2D)           multiple                  36928     \n",
      "                                                                 \n",
      " max_pooling2d (MaxPooling2D  multiple                 0         \n",
      " )                                                               \n",
      "                                                                 \n",
      " conv2d_2 (Conv2D)           multiple                  73856     \n",
      "                                                                 \n",
      " conv2d_3 (Conv2D)           multiple                  147584    \n",
      "                                                                 \n",
      " max_pooling2d_1 (MaxPooling  multiple                 0         \n",
      " 2D)                                                             \n",
      "                                                                 \n",
      " conv2d_4 (Conv2D)           multiple                  295168    \n",
      "                                                                 \n",
      " conv2d_5 (Conv2D)           multiple                  590080    \n",
      "                                                                 \n",
      " max_pooling2d_2 (MaxPooling  multiple                 0         \n",
      " 2D)                                                             \n",
      "                                                                 \n",
      " conv2d_6 (Conv2D)           multiple                  1180160   \n",
      "                                                                 \n",
      " conv2d_7 (Conv2D)           multiple                  2359808   \n",
      "                                                                 \n",
      " conv2d_8 (Conv2D)           multiple                  2359808   \n",
      "                                                                 \n",
      " max_pooling2d_3 (MaxPooling  multiple                 0         \n",
      " 2D)                                                             \n",
      "                                                                 \n",
      " conv2d_9 (Conv2D)           multiple                  2359808   \n",
      "                                                                 \n",
      " conv2d_10 (Conv2D)          multiple                  2359808   \n",
      "                                                                 \n",
      " conv2d_11 (Conv2D)          multiple                  2359808   \n",
      "                                                                 \n",
      " max_pooling2d_4 (MaxPooling  multiple                 0         \n",
      " 2D)                                                             \n",
      "                                                                 \n",
      " flatten (Flatten)           multiple                  0         \n",
      "                                                                 \n",
      " dense (Dense)               multiple                  102764544 \n",
      "                                                                 \n",
      " dense_1 (Dense)             multiple                  8194000   \n",
      "                                                                 \n",
      " dense_2 (Dense)             multiple                  2001      \n",
      "                                                                 \n",
      "=================================================================\n",
      "Total params: 125,085,153\n",
      "Trainable params: 125,085,153\n",
      "Non-trainable params: 0\n",
      "_________________________________________________________________\n"
     ]
    }
   ],
   "source": [
    "# load trained model from best checkpoint\n",
    "CnnModel = tf.keras.models.load_model('19-2.163541')\n",
    "CnnModel.summary()"
   ]
  },
  {
   "cell_type": "code",
   "execution_count": 11,
   "metadata": {},
   "outputs": [],
   "source": [
    "AUTOTUNE = tf.data.AUTOTUNE\n",
    "def image_prep(image_path, image_size:tuple):\n",
    "    img = tf.io.read_file(image_path)\n",
    "    img = tf.io.decode_jpeg(img, channels=3)\n",
    "    img = tf.image.resize(img, image_size)\n",
    "    img /= 255\n",
    "    return img\n",
    "\n",
    "def load_data(dataframe:pd.DataFrame, images_path:str, image_size:tuple=(224, 224), shuffle:bool=True):\n",
    "    dataframe_ = dataframe.copy()\n",
    "    if shuffle:\n",
    "        dataframe_ = dataframe_.sample(frac=1)\n",
    "\n",
    "    for_preds = pd.Series(index=dataframe_['vid_id'].values, name='cnn_thumb_preds', dtype='float64')\n",
    "\n",
    "    dataframe_['thumb_name'] = dataframe_['thumb_name'].apply(lambda name: os.path.join(images_path, name))\n",
    "\n",
    "    test_data = tf.data.Dataset.from_tensor_slices((dataframe_['thumb_name'].values, dataframe_['vid_id'].values))\n",
    "\n",
    "    test_data = test_data.map(lambda x, y: (image_prep(x, image_size=image_size), y), num_parallel_calls=AUTOTUNE)\n",
    "\n",
    "    test_data = test_data.batch(1).prefetch(buffer_size=AUTOTUNE)\n",
    "\n",
    "    return test_data, for_preds\n"
   ]
  },
  {
   "cell_type": "code",
   "execution_count": 12,
   "metadata": {},
   "outputs": [],
   "source": [
    "test_data_for_cnn, for_preds = load_data(test_dataframe, image_folder_path)"
   ]
  },
  {
   "cell_type": "code",
   "execution_count": 13,
   "metadata": {},
   "outputs": [
    {
     "data": {
      "application/vnd.jupyter.widget-view+json": {
       "model_id": "739c51d1f5d04820bc5eb0313a8112ac",
       "version_major": 2,
       "version_minor": 0
      },
      "text/plain": [
       "  0%|          | 0/42802 [00:00<?, ?it/s]"
      ]
     },
     "metadata": {},
     "output_type": "display_data"
    },
    {
     "name": "stderr",
     "output_type": "stream",
     "text": [
      "2022-12-10 00:14:21.769840: I tensorflow/stream_executor/cuda/cuda_dnn.cc:366] Loaded cuDNN version 8401\n"
     ]
    }
   ],
   "source": [
    "for data_batch in notebook.tqdm(test_data_for_cnn):\n",
    "    image, vid_id = data_batch\n",
    "\n",
    "    preds = CnnModel.predict(image)\n",
    "    \n",
    "    for_preds[vid_id.numpy()[0].decode('utf8')] = preds[0][0]"
   ]
  },
  {
   "cell_type": "code",
   "execution_count": 14,
   "metadata": {},
   "outputs": [],
   "source": [
    "test_dataframe = test_dataframe.merge(for_preds, left_on='vid_id', right_index=True)"
   ]
  },
  {
   "cell_type": "code",
   "execution_count": 15,
   "metadata": {},
   "outputs": [
    {
     "data": {
      "text/html": [
       "<div>\n",
       "<style scoped>\n",
       "    .dataframe tbody tr th:only-of-type {\n",
       "        vertical-align: middle;\n",
       "    }\n",
       "\n",
       "    .dataframe tbody tr th {\n",
       "        vertical-align: top;\n",
       "    }\n",
       "\n",
       "    .dataframe thead th {\n",
       "        text-align: right;\n",
       "    }\n",
       "</style>\n",
       "<table border=\"1\" class=\"dataframe\">\n",
       "  <thead>\n",
       "    <tr style=\"text-align: right;\">\n",
       "      <th></th>\n",
       "      <th>vid_id</th>\n",
       "      <th>thumb_name</th>\n",
       "      <th>log_vid_viewcount</th>\n",
       "      <th>cnn_thumb_preds</th>\n",
       "    </tr>\n",
       "  </thead>\n",
       "  <tbody>\n",
       "    <tr>\n",
       "      <th>0</th>\n",
       "      <td>s7hUDrkbg_E</td>\n",
       "      <td>s7hUDrkbg_E.jpg</td>\n",
       "      <td>8.458504</td>\n",
       "      <td>8.505220</td>\n",
       "    </tr>\n",
       "    <tr>\n",
       "      <th>1</th>\n",
       "      <td>jsoze58Ct7Y</td>\n",
       "      <td>jsoze58Ct7Y.jpg</td>\n",
       "      <td>10.052166</td>\n",
       "      <td>7.570218</td>\n",
       "    </tr>\n",
       "    <tr>\n",
       "      <th>2</th>\n",
       "      <td>IeGS-GzUtOo</td>\n",
       "      <td>IeGS-GzUtOo.jpg</td>\n",
       "      <td>3.044522</td>\n",
       "      <td>11.014213</td>\n",
       "    </tr>\n",
       "    <tr>\n",
       "      <th>3</th>\n",
       "      <td>KqgFCfoH0oI</td>\n",
       "      <td>KqgFCfoH0oI.jpg</td>\n",
       "      <td>4.369448</td>\n",
       "      <td>9.921457</td>\n",
       "    </tr>\n",
       "    <tr>\n",
       "      <th>4</th>\n",
       "      <td>Zv5XJnwi3k0</td>\n",
       "      <td>Zv5XJnwi3k0.jpg</td>\n",
       "      <td>12.254444</td>\n",
       "      <td>11.544274</td>\n",
       "    </tr>\n",
       "    <tr>\n",
       "      <th>...</th>\n",
       "      <td>...</td>\n",
       "      <td>...</td>\n",
       "      <td>...</td>\n",
       "      <td>...</td>\n",
       "    </tr>\n",
       "    <tr>\n",
       "      <th>42797</th>\n",
       "      <td>t6tTTgvxMW8</td>\n",
       "      <td>t6tTTgvxMW8.jpg</td>\n",
       "      <td>3.970292</td>\n",
       "      <td>7.534862</td>\n",
       "    </tr>\n",
       "    <tr>\n",
       "      <th>42798</th>\n",
       "      <td>CyJ2YgKbFfE</td>\n",
       "      <td>CyJ2YgKbFfE.jpg</td>\n",
       "      <td>8.734399</td>\n",
       "      <td>10.036426</td>\n",
       "    </tr>\n",
       "    <tr>\n",
       "      <th>42799</th>\n",
       "      <td>HxFcjfkjpPo</td>\n",
       "      <td>HxFcjfkjpPo.jpg</td>\n",
       "      <td>12.083724</td>\n",
       "      <td>9.814285</td>\n",
       "    </tr>\n",
       "    <tr>\n",
       "      <th>42800</th>\n",
       "      <td>B1JuEx3yypQ</td>\n",
       "      <td>B1JuEx3yypQ.jpg</td>\n",
       "      <td>12.394492</td>\n",
       "      <td>8.285105</td>\n",
       "    </tr>\n",
       "    <tr>\n",
       "      <th>42801</th>\n",
       "      <td>VZzhlBXb5f4</td>\n",
       "      <td>VZzhlBXb5f4.jpg</td>\n",
       "      <td>7.282074</td>\n",
       "      <td>8.808801</td>\n",
       "    </tr>\n",
       "  </tbody>\n",
       "</table>\n",
       "<p>42802 rows × 4 columns</p>\n",
       "</div>"
      ],
      "text/plain": [
       "            vid_id       thumb_name  log_vid_viewcount  cnn_thumb_preds\n",
       "0      s7hUDrkbg_E  s7hUDrkbg_E.jpg           8.458504         8.505220\n",
       "1      jsoze58Ct7Y  jsoze58Ct7Y.jpg          10.052166         7.570218\n",
       "2      IeGS-GzUtOo  IeGS-GzUtOo.jpg           3.044522        11.014213\n",
       "3      KqgFCfoH0oI  KqgFCfoH0oI.jpg           4.369448         9.921457\n",
       "4      Zv5XJnwi3k0  Zv5XJnwi3k0.jpg          12.254444        11.544274\n",
       "...            ...              ...                ...              ...\n",
       "42797  t6tTTgvxMW8  t6tTTgvxMW8.jpg           3.970292         7.534862\n",
       "42798  CyJ2YgKbFfE  CyJ2YgKbFfE.jpg           8.734399        10.036426\n",
       "42799  HxFcjfkjpPo  HxFcjfkjpPo.jpg          12.083724         9.814285\n",
       "42800  B1JuEx3yypQ  B1JuEx3yypQ.jpg          12.394492         8.285105\n",
       "42801  VZzhlBXb5f4  VZzhlBXb5f4.jpg           7.282074         8.808801\n",
       "\n",
       "[42802 rows x 4 columns]"
      ]
     },
     "execution_count": 15,
     "metadata": {},
     "output_type": "execute_result"
    }
   ],
   "source": [
    "test_dataframe"
   ]
  },
  {
   "cell_type": "code",
   "execution_count": 16,
   "metadata": {},
   "outputs": [],
   "source": [
    "rmse = mean_squared_error(test_dataframe['log_vid_viewcount'], test_dataframe['cnn_thumb_preds'], squared=False)\n",
    "mae = mean_absolute_error(test_dataframe['log_vid_viewcount'], test_dataframe['cnn_thumb_preds'])\n",
    "r2 = r2_score(test_dataframe['log_vid_viewcount'], test_dataframe['cnn_thumb_preds'])"
   ]
  },
  {
   "cell_type": "code",
   "execution_count": 17,
   "metadata": {},
   "outputs": [
    {
     "name": "stdout",
     "output_type": "stream",
     "text": [
      "Root mean squared error: 2.740465\n",
      "Mean absolute error    : 2.173752\n",
      "r2 score               : 0.243857\n"
     ]
    }
   ],
   "source": [
    "print(f'Root mean squared error: {rmse:.6f}')\n",
    "print(f'Mean absolute error    : {mae:.6f}')\n",
    "print(f'r2 score               : {r2:.6f}')"
   ]
  },
  {
   "cell_type": "code",
   "execution_count": 18,
   "metadata": {},
   "outputs": [
    {
     "data": {
      "text/plain": [
       "Text(0, 0.5, 'Residuals')"
      ]
     },
     "execution_count": 18,
     "metadata": {},
     "output_type": "execute_result"
    },
    {
     "data": {
      "image/png": "[encoded data removed]",
      "text/plain": [
       "<Figure size 432x288 with 1 Axes>"
      ]
     },
     "metadata": {
      "needs_background": "light"
     },
     "output_type": "display_data"
    }
   ],
   "source": [
    "resids = test_dataframe['log_vid_viewcount'] - test_dataframe['cnn_thumb_preds']\n",
    "ax = sns.regplot(x=test_dataframe['cnn_thumb_preds'], y=resids, fit_reg=False)\n",
    "ax.axhline(0, color='k')\n",
    "ax.set_title('Residuals vs. predicted values')\n",
    "ax.set_xlabel('Predicted values')\n",
    "ax.set_ylabel('Residuals')"
   ]
  },
  {
   "cell_type": "code",
   "execution_count": 19,
   "metadata": {},
   "outputs": [],
   "source": [
    "test_dataframe.to_json('cnn_test_results.json.gz')"
   ]
  },
  {
   "cell_type": "code",
   "execution_count": null,
   "metadata": {},
   "outputs": [],
   "source": []
  }
 ],
 "metadata": {
  "kernelspec": {
   "display_name": "Python 3 (ipykernel)",
   "language": "python",
   "name": "python3"
  },
  "language_info": {
   "codemirror_mode": {
    "name": "ipython",
    "version": 3
   },
   "file_extension": ".py",
   "mimetype": "text/x-python",
   "name": "python",
   "nbconvert_exporter": "python",
   "pygments_lexer": "ipython3",
   "version": "3.10.6 | packaged by conda-forge | (main, Oct 24 2022, 16:02:16) [MSC v.1916 64 bit (AMD64)]"
  },
  "vscode": {
   "interpreter": {
    "hash": "2b9192579c383e93a0fe4ed71cd54054db34618ad79690d6950dc3424d2ec03d"
   }
  }
 },
 "nbformat": 4,
 "nbformat_minor": 2
}
